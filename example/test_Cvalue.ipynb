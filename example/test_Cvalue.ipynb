{
 "cells": [
  {
   "cell_type": "code",
   "execution_count": 1,
   "metadata": {},
   "outputs": [],
   "source": [
    "import sys\n",
    "sys.path.append(\"../\")"
   ]
  },
  {
   "cell_type": "code",
   "execution_count": 2,
   "metadata": {},
   "outputs": [],
   "source": [
    "import torch\n",
    "import solvers as TCS"
   ]
  },
  {
   "cell_type": "code",
   "execution_count": 3,
   "metadata": {},
   "outputs": [],
   "source": [
    "device = \"cuda\""
   ]
  },
  {
   "cell_type": "code",
   "execution_count": 4,
   "metadata": {},
   "outputs": [],
   "source": [
    "A_r = torch.tensor([\n",
    "    [1,2,3.0],\n",
    "    [4,5,6],\n",
    "    [7,8,10]\n",
    "    ]\n",
    "    ,device=device)\n",
    "A_i = torch.zeros((3,3),device=device,dtype=A_r.dtype)\n",
    "\n",
    "b_r = torch.tensor([\n",
    "    [1.0],\n",
    "    [2],\n",
    "    [3]\n",
    "    ]\n",
    "    ,device=device)\n",
    "b_i = torch.tensor([\n",
    "    [2.0],\n",
    "    [4],\n",
    "    [6]\n",
    "    ]\n",
    "    ,device=device)"
   ]
  },
  {
   "cell_type": "code",
   "execution_count": 5,
   "metadata": {},
   "outputs": [
    {
     "output_type": "execute_result",
     "data": {
      "text/plain": "(tensor([[-3.3333e-01],\n         [ 6.6667e-01],\n         [-1.1921e-07]], device='cuda:0'),\n tensor([[-6.6667e-01],\n         [ 1.3333e+00],\n         [-2.3842e-07]], device='cuda:0'),\n tensor([[ 7.0000,  8.0000, 10.0000],\n         [ 0.1429,  0.8571,  1.5714],\n         [ 0.5714,  0.5000, -0.5000]], device='cuda:0'),\n tensor([[0., 0., 0.],\n         [0., 0., 0.],\n         [0., 0., 0.]], device='cuda:0'))"
     },
     "metadata": {},
     "execution_count": 5
    }
   ],
   "source": [
    "TCS.torch_complex_solve(A_r,A_i,b_r,b_i)"
   ]
  },
  {
   "cell_type": "code",
   "execution_count": 6,
   "metadata": {},
   "outputs": [
    {
     "output_type": "execute_result",
     "data": {
      "text/plain": "array([[[-0.33333334-0.6666667j],\n        [ 0.6666667 +1.3333334j],\n        [ 0.        -0.j       ]]], dtype=complex64)"
     },
     "metadata": {},
     "execution_count": 6
    }
   ],
   "source": [
    "TCS.torch_complex_solve(A_r,A_i,b_r,b_i,use_cuSol=False)"
   ]
  },
  {
   "cell_type": "code",
   "execution_count": 7,
   "metadata": {},
   "outputs": [],
   "source": [
    "rand_A = torch.randn(2,4,4,device=device)\n",
    "rand_b = torch.randn(2,4,1,device=device)"
   ]
  },
  {
   "cell_type": "code",
   "execution_count": 8,
   "metadata": {},
   "outputs": [
    {
     "output_type": "execute_result",
     "data": {
      "text/plain": "(tensor([[-1.5243],\n         [-1.4131],\n         [ 0.4323],\n         [ 0.1102]], device='cuda:0'),\n tensor([[-0.1622],\n         [ 1.2698],\n         [-0.2766],\n         [ 1.1611]], device='cuda:0'),\n tensor([[-0.4023,  0.6659,  1.6229, -1.1233],\n         [ 0.1200, -0.7125, -1.0538, -0.0760],\n         [ 0.1873,  0.4314,  1.1922,  1.0324],\n         [-0.5867,  0.0403,  0.4047,  2.0669]], device='cuda:0'),\n tensor([[-1.4494,  0.4711,  0.6199, -0.1214],\n         [-0.3016,  1.3325,  1.1698, -0.1023],\n         [ 0.4654,  0.5949, -1.4365,  1.6444],\n         [-0.3486, -0.4762,  1.0162, -1.9769]], device='cuda:0'))"
     },
     "metadata": {},
     "execution_count": 8
    }
   ],
   "source": [
    "TCS.torch_complex_solve(rand_A[0],rand_A[1],rand_b[0],rand_b[1])"
   ]
  },
  {
   "cell_type": "code",
   "execution_count": 9,
   "metadata": {},
   "outputs": [
    {
     "output_type": "execute_result",
     "data": {
      "text/plain": "array([[[-1.5242593 -0.16220109j],\n        [-1.4130505 +1.2697598j ],\n        [ 0.43234715-0.27660075j],\n        [ 0.1102053 +1.1610761j ]]], dtype=complex64)"
     },
     "metadata": {},
     "execution_count": 9
    }
   ],
   "source": [
    "TCS.torch_complex_solve(rand_A[0],rand_A[1],rand_b[0],rand_b[1],use_cuSol=False)"
   ]
  },
  {
   "cell_type": "code",
   "execution_count": null,
   "metadata": {},
   "outputs": [],
   "source": []
  }
 ],
 "metadata": {
  "language_info": {
   "codemirror_mode": {
    "name": "ipython",
    "version": 3
   },
   "file_extension": ".py",
   "mimetype": "text/x-python",
   "name": "python",
   "nbconvert_exporter": "python",
   "pygments_lexer": "ipython3",
   "version": "3.8.2-final"
  },
  "orig_nbformat": 2,
  "kernelspec": {
   "name": "python3",
   "display_name": "Python 3"
  }
 },
 "nbformat": 4,
 "nbformat_minor": 2
}