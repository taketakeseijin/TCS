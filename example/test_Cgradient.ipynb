{
 "cells": [
  {
   "cell_type": "code",
   "execution_count": 1,
   "metadata": {},
   "outputs": [],
   "source": [
    "import sys\n",
    "sys.path.append(\"../\")"
   ]
  },
  {
   "cell_type": "code",
   "execution_count": 2,
   "metadata": {},
   "outputs": [],
   "source": [
    "import torch\n",
    "import TCSF"
   ]
  },
  {
   "cell_type": "code",
   "execution_count": 3,
   "metadata": {},
   "outputs": [],
   "source": [
    "device = \"cuda\""
   ]
  },
  {
   "cell_type": "code",
   "execution_count": 4,
   "metadata": {},
   "outputs": [],
   "source": [
    "batch = 3"
   ]
  },
  {
   "cell_type": "code",
   "execution_count": 5,
   "metadata": {},
   "outputs": [],
   "source": [
    "A_r = torch.nn.Parameter(torch.randn(batch,4,4,device=device))\n",
    "A_i = torch.nn.Parameter(torch.zeros(batch,4,4,device=device))\n",
    "b_r = torch.nn.Parameter(torch.randn(batch,4,1,device=device))\n",
    "b_i = torch.nn.Parameter(torch.zeros(batch,4,1,device=device))\n",
    "AA_r = torch.nn.Parameter(A_r.detach())\n",
    "AA_i = torch.nn.Parameter(A_i.detach())\n",
    "bb_r = torch.nn.Parameter(b_r.detach())\n",
    "bb_i = torch.nn.Parameter(b_i.detach())"
   ]
  },
  {
   "cell_type": "code",
   "execution_count": 6,
   "metadata": {},
   "outputs": [],
   "source": [
    "x,_ = torch.solve(b_r,A_r)"
   ]
  },
  {
   "cell_type": "code",
   "execution_count": 7,
   "metadata": {},
   "outputs": [],
   "source": [
    "y=x.sum()\n",
    "y.backward()"
   ]
  },
  {
   "cell_type": "code",
   "execution_count": 8,
   "metadata": {},
   "outputs": [],
   "source": [
    "CS = TCSF.Csolver()\n",
    "cx = CS(AA_r,AA_i,bb_r,bb_i)"
   ]
  },
  {
   "cell_type": "code",
   "execution_count": 9,
   "metadata": {},
   "outputs": [],
   "source": [
    "xx = cx[0] + cx[1]\n",
    "yy = xx.sum()\n",
    "yy.backward()"
   ]
  },
  {
   "cell_type": "code",
   "execution_count": 10,
   "metadata": {},
   "outputs": [
    {
     "output_type": "execute_result",
     "data": {
      "text/plain": "tensor([[[-3.8073],\n         [-0.5619],\n         [-4.8399],\n         [-1.4416]],\n\n        [[-0.0066],\n         [-0.2324],\n         [ 1.0617],\n         [-1.2149]],\n\n        [[ 0.2036],\n         [-1.8926],\n         [ 1.2092],\n         [ 1.1606]]], device='cuda:0', grad_fn=<SolveBackward>)"
     },
     "metadata": {},
     "execution_count": 10
    }
   ],
   "source": [
    "x"
   ]
  },
  {
   "cell_type": "code",
   "execution_count": 11,
   "metadata": {},
   "outputs": [
    {
     "output_type": "execute_result",
     "data": {
      "text/plain": "(tensor([[[-3.8073],\n          [-0.5619],\n          [-4.8399],\n          [-1.4416]],\n \n         [[-0.0066],\n          [-0.2324],\n          [ 1.0617],\n          [-1.2149]],\n \n         [[ 0.2036],\n          [-1.8926],\n          [ 1.2092],\n          [ 1.1606]]], device='cuda:0', grad_fn=<CsolverFunctionBackward>),\n tensor([[[0.],\n          [-0.],\n          [0.],\n          [-0.]],\n \n         [[-0.],\n          [0.],\n          [0.],\n          [-0.]],\n \n         [[0.],\n          [0.],\n          [0.],\n          [0.]]], device='cuda:0', grad_fn=<CsolverFunctionBackward>))"
     },
     "metadata": {},
     "execution_count": 11
    }
   ],
   "source": [
    "cx"
   ]
  },
  {
   "cell_type": "code",
   "execution_count": 12,
   "metadata": {},
   "outputs": [
    {
     "output_type": "execute_result",
     "data": {
      "text/plain": "tensor([[[ 1.4962e+01,  2.2083e+00,  1.9020e+01,  5.6652e+00],\n         [-9.5806e+00, -1.4140e+00, -1.2179e+01, -3.6276e+00],\n         [-1.8503e+00, -2.7309e-01, -2.3521e+00, -7.0059e-01],\n         [-2.0461e+01, -3.0199e+00, -2.6010e+01, -7.7472e+00]],\n\n        [[ 8.5774e-03,  3.0343e-01, -1.3861e+00,  1.5862e+00],\n         [-4.4573e-04, -1.5768e-02,  7.2031e-02, -8.2425e-02],\n         [-3.1055e-03, -1.0986e-01,  5.0185e-01, -5.7427e-01],\n         [-4.8408e-04, -1.7124e-02,  7.8229e-02, -8.9517e-02]],\n\n        [[-1.0953e-01,  1.0181e+00, -6.5043e-01, -6.2432e-01],\n         [ 2.2508e-01, -2.0920e+00,  1.3366e+00,  1.2829e+00],\n         [ 1.1850e-01, -1.1014e+00,  7.0369e-01,  6.7544e-01],\n         [ 4.1182e-01, -3.8276e+00,  2.4454e+00,  2.3472e+00]]],\n       device='cuda:0')"
     },
     "metadata": {},
     "execution_count": 12
    }
   ],
   "source": [
    "A_r.grad"
   ]
  },
  {
   "cell_type": "code",
   "execution_count": 13,
   "metadata": {},
   "outputs": [
    {
     "output_type": "execute_result",
     "data": {
      "text/plain": "tensor([[[ 1.4962e+01,  2.2083e+00,  1.9020e+01,  5.6652e+00],\n         [-9.5806e+00, -1.4140e+00, -1.2179e+01, -3.6276e+00],\n         [-1.8503e+00, -2.7309e-01, -2.3521e+00, -7.0059e-01],\n         [-2.0461e+01, -3.0199e+00, -2.6010e+01, -7.7472e+00]],\n\n        [[ 8.5774e-03,  3.0343e-01, -1.3861e+00,  1.5862e+00],\n         [-4.4573e-04, -1.5768e-02,  7.2031e-02, -8.2425e-02],\n         [-3.1055e-03, -1.0986e-01,  5.0185e-01, -5.7427e-01],\n         [-4.8408e-04, -1.7124e-02,  7.8229e-02, -8.9517e-02]],\n\n        [[-1.0953e-01,  1.0181e+00, -6.5043e-01, -6.2432e-01],\n         [ 2.2508e-01, -2.0920e+00,  1.3366e+00,  1.2829e+00],\n         [ 1.1850e-01, -1.1014e+00,  7.0369e-01,  6.7544e-01],\n         [ 4.1182e-01, -3.8276e+00,  2.4454e+00,  2.3472e+00]]],\n       device='cuda:0')"
     },
     "metadata": {},
     "execution_count": 13
    }
   ],
   "source": [
    "AA_r.grad"
   ]
  },
  {
   "cell_type": "code",
   "execution_count": 14,
   "metadata": {},
   "outputs": [
    {
     "output_type": "execute_result",
     "data": {
      "text/plain": "tensor([[[ 3.9298],\n         [-2.5163],\n         [-0.4860],\n         [-5.3740]],\n\n        [[ 1.3056],\n         [-0.0678],\n         [-0.4727],\n         [-0.0737]],\n\n        [[ 0.5379],\n         [-1.1053],\n         [-0.5820],\n         [-2.0224]]], device='cuda:0')"
     },
     "metadata": {},
     "execution_count": 14
    }
   ],
   "source": [
    "b_r.grad"
   ]
  },
  {
   "cell_type": "code",
   "execution_count": 15,
   "metadata": {},
   "outputs": [
    {
     "output_type": "execute_result",
     "data": {
      "text/plain": "tensor([[[ 3.9298],\n         [-2.5163],\n         [-0.4860],\n         [-5.3740]],\n\n        [[ 1.3056],\n         [-0.0678],\n         [-0.4727],\n         [-0.0737]],\n\n        [[ 0.5379],\n         [-1.1053],\n         [-0.5820],\n         [-2.0224]]], device='cuda:0')"
     },
     "metadata": {},
     "execution_count": 15
    }
   ],
   "source": [
    "bb_r.grad"
   ]
  }
 ],
 "metadata": {
  "language_info": {
   "codemirror_mode": {
    "name": "ipython",
    "version": 3
   },
   "file_extension": ".py",
   "mimetype": "text/x-python",
   "name": "python",
   "nbconvert_exporter": "python",
   "pygments_lexer": "ipython3",
   "version": "3.8.2-final"
  },
  "orig_nbformat": 2,
  "kernelspec": {
   "name": "python3",
   "display_name": "Python 3"
  }
 },
 "nbformat": 4,
 "nbformat_minor": 2
}