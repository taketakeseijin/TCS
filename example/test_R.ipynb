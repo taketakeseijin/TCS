{
 "cells": [
  {
   "cell_type": "markdown",
   "metadata": {},
   "source": [
    "# Test : cpp,cuda implementation really returns correct answer?\n",
    "Let's compare ToCS_cuSol.Rsolve to torch.solve."
   ]
  },
  {
   "cell_type": "code",
   "execution_count": 1,
   "metadata": {},
   "outputs": [],
   "source": [
    "import sys\n",
    "sys.path.append(\"../\")"
   ]
  },
  {
   "cell_type": "code",
   "execution_count": 2,
   "metadata": {},
   "outputs": [],
   "source": [
    "import torch\n",
    "import ToCS_cuSol"
   ]
  },
  {
   "cell_type": "code",
   "execution_count": 3,
   "metadata": {},
   "outputs": [],
   "source": [
    "device = \"cuda\""
   ]
  },
  {
   "cell_type": "code",
   "execution_count": 4,
   "metadata": {},
   "outputs": [],
   "source": [
    "A = torch.tensor([\n",
    "    [1.0,2,3],\n",
    "    [4,5,6],\n",
    "    [7,8,10]]).to(device)\n",
    "b = torch.tensor([\n",
    "    [1.0],\n",
    "    [2],\n",
    "    [3]]).to(device)"
   ]
  },
  {
   "cell_type": "markdown",
   "metadata": {},
   "source": [
    "## expected result\n",
    "This problem is very easy to solve in hands. x = \\[-1/3,2/3,0\\] is correct solution."
   ]
  },
  {
   "cell_type": "code",
   "execution_count": 5,
   "metadata": {},
   "outputs": [
    {
     "output_type": "execute_result",
     "data": {
      "text/plain": "[tensor([[-3.3333e-01],\n         [ 6.6667e-01],\n         [-1.1921e-07]], device='cuda:0'),\n tensor([[ 7.0000,  0.1429,  0.5714],\n         [ 8.0000,  0.8571,  0.5000],\n         [10.0000,  1.5714, -0.5000]], device='cuda:0')]"
     },
     "metadata": {},
     "execution_count": 5
    }
   ],
   "source": [
    "AA = A.clone().T.contiguous()\n",
    "bb = b.clone()\n",
    "pivot_on = 1\n",
    "ToCS_cuSol.Rsolve(AA,bb,pivot_on)"
   ]
  },
  {
   "cell_type": "code",
   "execution_count": 6,
   "metadata": {},
   "outputs": [
    {
     "output_type": "execute_result",
     "data": {
      "text/plain": "torch.return_types.solve(\nsolution=tensor([[-3.3333e-01],\n        [ 6.6667e-01],\n        [-1.1921e-07]], device='cuda:0'),\nLU=tensor([[ 7.0000,  8.0000, 10.0000],\n        [ 0.1429,  0.8571,  1.5714],\n        [ 0.5714,  0.5000, -0.5000]], device='cuda:0'))"
     },
     "metadata": {},
     "execution_count": 6
    }
   ],
   "source": [
    "torch.solve(b,A)"
   ]
  },
  {
   "cell_type": "markdown",
   "metadata": {},
   "source": [
    "It seems works well.\n",
    "Next, random sample."
   ]
  },
  {
   "cell_type": "code",
   "execution_count": 7,
   "metadata": {},
   "outputs": [],
   "source": [
    "rand_A = torch.randn(4,4,device=device)\n",
    "rand_b = torch.randn(4,1,device=device)"
   ]
  },
  {
   "cell_type": "code",
   "execution_count": 8,
   "metadata": {},
   "outputs": [
    {
     "output_type": "execute_result",
     "data": {
      "text/plain": "[tensor([[18.7063],\n         [-0.5230],\n         [26.5013],\n         [ 6.6530]], device='cuda:0'),\n tensor([[-0.9820,  0.2293, -0.7230, -0.8537],\n         [-1.6238, -0.9856,  0.9401,  0.7095],\n         [ 0.4410,  0.3017, -0.3796, -0.5482],\n         [ 0.8802, -1.3307,  1.7177,  0.4843]], device='cuda:0')]"
     },
     "metadata": {},
     "execution_count": 8
    }
   ],
   "source": [
    "rand_AA = rand_A.clone().T.contiguous()\n",
    "rand_bb = rand_b.clone()\n",
    "pivot_on=1\n",
    "ToCS_cuSol.Rsolve(rand_AA,rand_bb,pivot_on)"
   ]
  },
  {
   "cell_type": "code",
   "execution_count": 9,
   "metadata": {},
   "outputs": [
    {
     "output_type": "execute_result",
     "data": {
      "text/plain": "torch.return_types.solve(\nsolution=tensor([[18.7063],\n        [-0.5230],\n        [26.5013],\n        [ 6.6530]], device='cuda:0'),\nLU=tensor([[-0.9820, -1.6238,  0.4410,  0.8802],\n        [ 0.2293, -0.9856,  0.3017, -1.3307],\n        [-0.7230,  0.9401, -0.3796,  1.7177],\n        [-0.8537,  0.7095, -0.5482,  0.4843]], device='cuda:0'))"
     },
     "metadata": {},
     "execution_count": 9
    }
   ],
   "source": [
    "torch.solve(rand_b,rand_A)"
   ]
  },
  {
   "cell_type": "markdown",
   "metadata": {},
   "source": [
    "They return the same result."
   ]
  }
 ],
 "metadata": {
  "language_info": {
   "codemirror_mode": {
    "name": "ipython",
    "version": 3
   },
   "file_extension": ".py",
   "mimetype": "text/x-python",
   "name": "python",
   "nbconvert_exporter": "python",
   "pygments_lexer": "ipython3",
   "version": "3.8.2-final"
  },
  "orig_nbformat": 2,
  "kernelspec": {
   "name": "python3",
   "display_name": "Python 3"
  }
 },
 "nbformat": 4,
 "nbformat_minor": 2
}