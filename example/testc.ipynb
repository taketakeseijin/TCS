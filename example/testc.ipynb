{
 "cells": [
  {
   "cell_type": "code",
   "execution_count": 1,
   "metadata": {},
   "outputs": [],
   "source": [
    "import torch\n",
    "import solvers as TCS"
   ]
  },
  {
   "cell_type": "code",
   "execution_count": 2,
   "metadata": {},
   "outputs": [],
   "source": [
    "device = \"cuda\""
   ]
  },
  {
   "cell_type": "code",
   "execution_count": 3,
   "metadata": {},
   "outputs": [],
   "source": [
    "A_r = torch.tensor([\n",
    "    [1,2,3.0],\n",
    "    [4,5,6],\n",
    "    [7,8,10]\n",
    "    ]\n",
    "    ,device=device)\n",
    "A_i = torch.zeros((3,3),device=device,dtype=A_r.dtype)\n",
    "\n",
    "b_r = torch.tensor([\n",
    "    [1.0],\n",
    "    [2],\n",
    "    [3]\n",
    "    ]\n",
    "    ,device=device)\n",
    "b_i = torch.tensor([\n",
    "    [2.0],\n",
    "    [4],\n",
    "    [6]\n",
    "    ]\n",
    "    ,device=device)"
   ]
  },
  {
   "cell_type": "code",
   "execution_count": 4,
   "metadata": {},
   "outputs": [
    {
     "output_type": "execute_result",
     "data": {
      "text/plain": "(tensor([[-3.3333e-01],\n         [ 6.6667e-01],\n         [-1.1921e-07]], device='cuda:0'),\n tensor([[-6.6667e-01],\n         [ 1.3333e+00],\n         [-2.3842e-07]], device='cuda:0'),\n tensor([[ 7.0000,  8.0000, 10.0000],\n         [ 0.1429,  0.8571,  1.5714],\n         [ 0.5714,  0.5000, -0.5000]], device='cuda:0'),\n tensor([[0., 0., 0.],\n         [0., 0., 0.],\n         [0., 0., 0.]], device='cuda:0'))"
     },
     "metadata": {},
     "execution_count": 4
    }
   ],
   "source": [
    "TCS.torch_complex_solve(A_r,A_i,b_r,b_i)"
   ]
  },
  {
   "cell_type": "code",
   "execution_count": 5,
   "metadata": {},
   "outputs": [
    {
     "output_type": "execute_result",
     "data": {
      "text/plain": "array([[[-0.33333334-0.6666667j],\n        [ 0.6666667 +1.3333334j],\n        [ 0.        -0.j       ]]], dtype=complex64)"
     },
     "metadata": {},
     "execution_count": 5
    }
   ],
   "source": [
    "TCS.torch_complex_solve(A_r,A_i,b_r,b_i,use_cuSol=False)"
   ]
  },
  {
   "cell_type": "code",
   "execution_count": 6,
   "metadata": {},
   "outputs": [],
   "source": [
    "rand_A = torch.randn(2,4,4,device=device)\n",
    "rand_b = torch.randn(2,4,1,device=device)"
   ]
  },
  {
   "cell_type": "code",
   "execution_count": 7,
   "metadata": {},
   "outputs": [
    {
     "output_type": "execute_result",
     "data": {
      "text/plain": "(tensor([[-0.3527],\n         [ 0.4357],\n         [-1.2532],\n         [-0.4911]], device='cuda:0'),\n tensor([[ 2.9530],\n         [-0.3441],\n         [-1.0551],\n         [ 0.9212]], device='cuda:0'),\n tensor([[ 0.5631,  0.8037, -0.6332,  0.9159],\n         [ 0.3126,  1.7740,  0.4708, -0.1018],\n         [-0.0096,  0.3188,  1.0195,  3.2443],\n         [ 0.0154, -0.0541, -0.1600,  0.9196]], device='cuda:0'),\n tensor([[ 1.6497,  0.7841,  2.2484,  0.0220],\n         [-0.0835,  0.4011, -0.2211, -0.3586],\n         [ 0.8393, -0.5371,  0.7128, -2.3624],\n         [-0.4300,  0.4690, -0.2464,  1.8051]], device='cuda:0'))"
     },
     "metadata": {},
     "execution_count": 7
    }
   ],
   "source": [
    "TCS.torch_complex_solve(rand_A[0],rand_A[1],rand_b[0],rand_b[1])"
   ]
  },
  {
   "cell_type": "code",
   "execution_count": 8,
   "metadata": {},
   "outputs": [
    {
     "output_type": "execute_result",
     "data": {
      "text/plain": "array([[[-0.35267758+2.9530058j ],\n        [ 0.4357436 -0.3441016j ],\n        [-1.2532456 -1.0550859j ],\n        [-0.4910985 +0.92117286j]]], dtype=complex64)"
     },
     "metadata": {},
     "execution_count": 8
    }
   ],
   "source": [
    "TCS.torch_complex_solve(rand_A[0],rand_A[1],rand_b[0],rand_b[1],use_cuSol=False)"
   ]
  },
  {
   "cell_type": "code",
   "execution_count": null,
   "metadata": {},
   "outputs": [],
   "source": []
  }
 ],
 "metadata": {
  "language_info": {
   "codemirror_mode": {
    "name": "ipython",
    "version": 3
   },
   "file_extension": ".py",
   "mimetype": "text/x-python",
   "name": "python",
   "nbconvert_exporter": "python",
   "pygments_lexer": "ipython3",
   "version": "3.8.2-final"
  },
  "orig_nbformat": 2,
  "kernelspec": {
   "name": "python3",
   "display_name": "Python 3"
  }
 },
 "nbformat": 4,
 "nbformat_minor": 2
}