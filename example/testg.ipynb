{
 "cells": [
  {
   "cell_type": "code",
   "execution_count": 1,
   "metadata": {},
   "outputs": [],
   "source": [
    "import torch\n",
    "import TCSF"
   ]
  },
  {
   "cell_type": "code",
   "execution_count": 2,
   "metadata": {},
   "outputs": [],
   "source": [
    "device = \"cuda\""
   ]
  },
  {
   "cell_type": "code",
   "execution_count": 3,
   "metadata": {},
   "outputs": [],
   "source": [
    "A_r = torch.nn.Parameter(torch.randn(4,4,device=device))\n",
    "A_i = torch.nn.Parameter(torch.zeros(4,4,device=device))\n",
    "b_r = torch.nn.Parameter(torch.randn(4,1,device=device))\n",
    "b_i = torch.nn.Parameter(torch.zeros(4,1,device=device))\n",
    "AA_r = torch.nn.Parameter(A_r.detach())\n",
    "AA_i = torch.nn.Parameter(A_i.detach())\n",
    "bb_r = torch.nn.Parameter(b_r.detach())\n",
    "bb_i = torch.nn.Parameter(b_i.detach())"
   ]
  },
  {
   "cell_type": "code",
   "execution_count": 4,
   "metadata": {},
   "outputs": [],
   "source": [
    "x,_ = torch.solve(b_r,A_r)"
   ]
  },
  {
   "cell_type": "code",
   "execution_count": 5,
   "metadata": {},
   "outputs": [],
   "source": [
    "y=x.sum()\n",
    "#y.backward()"
   ]
  },
  {
   "cell_type": "code",
   "execution_count": 6,
   "metadata": {},
   "outputs": [],
   "source": [
    "CS = TCSF.Csolver()\n",
    "cx = CS(A_r,A_i,b_r,b_i)"
   ]
  },
  {
   "cell_type": "code",
   "execution_count": 7,
   "metadata": {},
   "outputs": [],
   "source": [
    "xx = cx[0] + cx[1]\n",
    "#yy.backward()"
   ]
  },
  {
   "cell_type": "code",
   "execution_count": 8,
   "metadata": {},
   "outputs": [
    {
     "output_type": "execute_result",
     "data": {
      "text/plain": "tensor([[-2.6333],\n        [-0.4695],\n        [-2.0001],\n        [ 0.4523]], device='cuda:0', grad_fn=<SolveBackward>)"
     },
     "metadata": {},
     "execution_count": 8
    }
   ],
   "source": [
    "x"
   ]
  },
  {
   "cell_type": "code",
   "execution_count": 9,
   "metadata": {},
   "outputs": [
    {
     "output_type": "execute_result",
     "data": {
      "text/plain": "tensor([[[-2.6333],\n         [-0.4695],\n         [-2.0001],\n         [ 0.4523]],\n\n        [[-0.0000],\n         [ 0.0000],\n         [-0.0000],\n         [ 0.0000]]], device='cuda:0', grad_fn=<CsolverFunctionBackward>)"
     },
     "metadata": {},
     "execution_count": 9
    }
   ],
   "source": [
    "cx"
   ]
  },
  {
   "cell_type": "code",
   "execution_count": 10,
   "metadata": {},
   "outputs": [],
   "source": [
    "g = torch.randn(4,1,device=device)"
   ]
  },
  {
   "cell_type": "code",
   "execution_count": 11,
   "metadata": {},
   "outputs": [
    {
     "output_type": "execute_result",
     "data": {
      "text/plain": "(tensor([[ 0.2417],\n         [-0.0594],\n         [ 0.4334],\n         [-0.0590]], device='cuda:0', grad_fn=<SolveBackward>),\n tensor([[ 0.6365,  0.1135,  0.4834, -0.1093],\n         [-0.1564, -0.0279, -0.1188,  0.0269],\n         [ 1.1411,  0.2035,  0.8668, -0.1960],\n         [-0.1553, -0.0277, -0.1180,  0.0267]], device='cuda:0',\n        grad_fn=<NegBackward>))"
     },
     "metadata": {},
     "execution_count": 11
    }
   ],
   "source": [
    "x.grad_fn(g)"
   ]
  },
  {
   "cell_type": "code",
   "execution_count": 12,
   "metadata": {},
   "outputs": [
    {
     "output_type": "error",
     "ename": "TypeError",
     "evalue": "'CsolverFunctionBackward' object is not callable",
     "traceback": [
      "\u001b[0;31m---------------------------------------------------------------------------\u001b[0m",
      "\u001b[0;31mTypeError\u001b[0m                                 Traceback (most recent call last)",
      "\u001b[0;32m<ipython-input-12-ac82cdd865db>\u001b[0m in \u001b[0;36m<module>\u001b[0;34m\u001b[0m\n\u001b[0;32m----> 1\u001b[0;31m \u001b[0mcx\u001b[0m\u001b[0;34m.\u001b[0m\u001b[0mgrad_fn\u001b[0m\u001b[0;34m(\u001b[0m\u001b[0mg\u001b[0m\u001b[0;34m)\u001b[0m\u001b[0;34m\u001b[0m\u001b[0;34m\u001b[0m\u001b[0m\n\u001b[0m",
      "\u001b[0;31mTypeError\u001b[0m: 'CsolverFunctionBackward' object is not callable"
     ]
    }
   ],
   "source": [
    "cx.grad_fn(g)"
   ]
  },
  {
   "cell_type": "code",
   "execution_count": 14,
   "metadata": {},
   "outputs": [
    {
     "output_type": "execute_result",
     "data": {
      "text/plain": "['__class__',\n '__delattr__',\n '__dict__',\n '__dir__',\n '__doc__',\n '__eq__',\n '__format__',\n '__ge__',\n '__getattribute__',\n '__gt__',\n '__hash__',\n '__init__',\n '__init_subclass__',\n '__le__',\n '__lt__',\n '__module__',\n '__ne__',\n '__new__',\n '__reduce__',\n '__reduce_ex__',\n '__repr__',\n '__setattr__',\n '__sizeof__',\n '__str__',\n '__subclasshook__',\n '__weakref__',\n '_do_backward',\n '_do_forward',\n '_forward_cls',\n '_is_legacy',\n '_register_hook',\n '_register_hook_dict',\n 'apply',\n 'dirty_tensors',\n 'mark_dirty',\n 'mark_non_differentiable',\n 'mark_shared_storage',\n 'metadata',\n 'needs_input_grad',\n 'next_functions',\n 'non_differentiable',\n 'register_hook',\n 'requires_grad',\n 'save_for_backward',\n 'saved_tensors',\n 'saved_variables',\n 'to_save']"
     },
     "metadata": {},
     "execution_count": 14
    }
   ],
   "source": [
    "dir(cx.grad_fn)"
   ]
  },
  {
   "cell_type": "code",
   "execution_count": null,
   "metadata": {},
   "outputs": [],
   "source": []
  }
 ],
 "metadata": {
  "language_info": {
   "codemirror_mode": {
    "name": "ipython",
    "version": 3
   },
   "file_extension": ".py",
   "mimetype": "text/x-python",
   "name": "python",
   "nbconvert_exporter": "python",
   "pygments_lexer": "ipython3",
   "version": "3.8.2-final"
  },
  "orig_nbformat": 2,
  "kernelspec": {
   "name": "python3",
   "display_name": "Python 3"
  }
 },
 "nbformat": 4,
 "nbformat_minor": 2
}