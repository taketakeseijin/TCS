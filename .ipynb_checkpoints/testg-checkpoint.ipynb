{
 "cells": [
  {
   "cell_type": "code",
   "execution_count": 1,
   "metadata": {
    "ExecuteTime": {
     "end_time": "2020-06-16T21:17:20.646174Z",
     "start_time": "2020-06-16T21:17:20.608312Z"
    }
   },
   "outputs": [
    {
     "ename": "ModuleNotFoundError",
     "evalue": "No module named 'torch'",
     "output_type": "error",
     "traceback": [
      "\u001b[0;31m---------------------------------------------------------------------------\u001b[0m",
      "\u001b[0;31mModuleNotFoundError\u001b[0m                       Traceback (most recent call last)",
      "\u001b[0;32m<ipython-input-1-e22b356720fe>\u001b[0m in \u001b[0;36m<module>\u001b[0;34m\u001b[0m\n\u001b[0;32m----> 1\u001b[0;31m \u001b[0;32mimport\u001b[0m \u001b[0mtorch\u001b[0m\u001b[0;34m\u001b[0m\u001b[0;34m\u001b[0m\u001b[0m\n\u001b[0m\u001b[1;32m      2\u001b[0m \u001b[0;32mimport\u001b[0m \u001b[0mTCSF\u001b[0m\u001b[0;34m\u001b[0m\u001b[0;34m\u001b[0m\u001b[0m\n",
      "\u001b[0;31mModuleNotFoundError\u001b[0m: No module named 'torch'"
     ]
    }
   ],
   "source": [
    "import torch\n",
    "import TCSF"
   ]
  },
  {
   "cell_type": "code",
   "execution_count": null,
   "metadata": {
    "ExecuteTime": {
     "end_time": "2020-06-16T21:17:00.830896Z",
     "start_time": "2020-06-16T21:17:00.392Z"
    }
   },
   "outputs": [],
   "source": [
    "device = \"cuda\""
   ]
  },
  {
   "cell_type": "code",
   "execution_count": null,
   "metadata": {
    "ExecuteTime": {
     "end_time": "2020-06-16T21:17:00.831426Z",
     "start_time": "2020-06-16T21:17:00.393Z"
    }
   },
   "outputs": [],
   "source": [
    "A_r = torch.nn.Parameter(torch.randn(4,4,device=device))\n",
    "A_i = torch.nn.Parameter(torch.zeros(4,4,device=device))\n",
    "b_r = torch.nn.Parameter(torch.randn(4,1,device=device))\n",
    "b_i = torch.nn.Parameter(torch.zeros(4,1,device=device))\n",
    "AA_r = torch.nn.Parameter(A_r.detach())\n",
    "AA_i = torch.nn.Parameter(A_i.detach())\n",
    "bb_r = torch.nn.Parameter(b_r.detach())\n",
    "bb_i = torch.nn.Parameter(b_i.detach())"
   ]
  },
  {
   "cell_type": "code",
   "execution_count": null,
   "metadata": {
    "ExecuteTime": {
     "end_time": "2020-06-16T21:17:00.831893Z",
     "start_time": "2020-06-16T21:17:00.394Z"
    }
   },
   "outputs": [],
   "source": [
    "x,_ = torch.solve(b_r,A_r)"
   ]
  },
  {
   "cell_type": "code",
   "execution_count": null,
   "metadata": {
    "ExecuteTime": {
     "end_time": "2020-06-16T21:17:00.832382Z",
     "start_time": "2020-06-16T21:17:00.395Z"
    }
   },
   "outputs": [],
   "source": [
    "y=x.sum()\n",
    "#y.backward()"
   ]
  },
  {
   "cell_type": "code",
   "execution_count": null,
   "metadata": {
    "ExecuteTime": {
     "end_time": "2020-06-16T21:17:00.832936Z",
     "start_time": "2020-06-16T21:17:00.396Z"
    }
   },
   "outputs": [],
   "source": [
    "CS = TCSF.Csolver()\n",
    "cx = CS(A_r,A_i,b_r,b_i)"
   ]
  },
  {
   "cell_type": "code",
   "execution_count": null,
   "metadata": {
    "ExecuteTime": {
     "end_time": "2020-06-16T21:17:00.833410Z",
     "start_time": "2020-06-16T21:17:00.397Z"
    }
   },
   "outputs": [],
   "source": [
    "xx = cx[0] + cx[1]\n",
    "#yy.backward()"
   ]
  },
  {
   "cell_type": "code",
   "execution_count": null,
   "metadata": {
    "ExecuteTime": {
     "end_time": "2020-06-16T21:17:00.833918Z",
     "start_time": "2020-06-16T21:17:00.398Z"
    }
   },
   "outputs": [],
   "source": [
    "x"
   ]
  },
  {
   "cell_type": "code",
   "execution_count": null,
   "metadata": {
    "ExecuteTime": {
     "end_time": "2020-06-16T21:17:00.834386Z",
     "start_time": "2020-06-16T21:17:00.398Z"
    }
   },
   "outputs": [],
   "source": [
    "cx"
   ]
  },
  {
   "cell_type": "code",
   "execution_count": null,
   "metadata": {
    "ExecuteTime": {
     "end_time": "2020-06-16T21:17:00.834932Z",
     "start_time": "2020-06-16T21:17:00.399Z"
    }
   },
   "outputs": [],
   "source": [
    "g = torch.randn(4,1,device=device)"
   ]
  },
  {
   "cell_type": "code",
   "execution_count": null,
   "metadata": {
    "ExecuteTime": {
     "end_time": "2020-06-16T21:17:00.835441Z",
     "start_time": "2020-06-16T21:17:00.401Z"
    }
   },
   "outputs": [],
   "source": [
    "x.grad_fn(g)"
   ]
  },
  {
   "cell_type": "code",
   "execution_count": null,
   "metadata": {
    "ExecuteTime": {
     "end_time": "2020-06-16T21:17:00.835911Z",
     "start_time": "2020-06-16T21:17:00.402Z"
    }
   },
   "outputs": [],
   "source": [
    "cx.grad_fn(g)"
   ]
  },
  {
   "cell_type": "code",
   "execution_count": null,
   "metadata": {
    "ExecuteTime": {
     "end_time": "2020-06-16T21:17:00.836387Z",
     "start_time": "2020-06-16T21:17:00.403Z"
    }
   },
   "outputs": [],
   "source": [
    "dir(cx.grad_fn.apply)"
   ]
  },
  {
   "cell_type": "code",
   "execution_count": null,
   "metadata": {},
   "outputs": [],
   "source": []
  }
 ],
 "metadata": {
  "kernelspec": {
   "display_name": "Environment (conda_anaconda3)",
   "language": "python",
   "name": "conda_anaconda3"
  },
  "language_info": {
   "codemirror_mode": {
    "name": "ipython",
    "version": 3
   },
   "file_extension": ".py",
   "mimetype": "text/x-python",
   "name": "python",
   "nbconvert_exporter": "python",
   "pygments_lexer": "ipython3",
   "version": "3.7.6"
  },
  "varInspector": {
   "cols": {
    "lenName": 16,
    "lenType": 16,
    "lenVar": 40
   },
   "kernels_config": {
    "python": {
     "delete_cmd_postfix": "",
     "delete_cmd_prefix": "del ",
     "library": "var_list.py",
     "varRefreshCmd": "print(var_dic_list())"
    },
    "r": {
     "delete_cmd_postfix": ") ",
     "delete_cmd_prefix": "rm(",
     "library": "var_list.r",
     "varRefreshCmd": "cat(var_dic_list()) "
    }
   },
   "types_to_exclude": [
    "module",
    "function",
    "builtin_function_or_method",
    "instance",
    "_Feature"
   ],
   "window_display": false
  }
 },
 "nbformat": 4,
 "nbformat_minor": 2
}
