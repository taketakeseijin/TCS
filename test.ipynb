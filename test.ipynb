{
 "cells": [
  {
   "cell_type": "code",
   "execution_count": 1,
   "metadata": {},
   "outputs": [],
   "source": [
    "import torch\n",
    "import solvers as TCS"
   ]
  },
  {
   "cell_type": "code",
   "execution_count": 2,
   "metadata": {},
   "outputs": [],
   "source": [
    "device = \"cuda\""
   ]
  },
  {
   "cell_type": "code",
   "execution_count": 3,
   "metadata": {},
   "outputs": [],
   "source": [
    "#A,b = torch.randn(4,4).to(device),torch.rand(4).to(device)\n",
    "A = torch.tensor([\n",
    "    [1.0,2,3],\n",
    "    [4,5,6],\n",
    "    [7,8,10]]).to(device)\n",
    "# b = torch.tensor([1.0,2,3]).to(device).reshape(-1,1)\n",
    "b = torch.tensor([\n",
    "    [1.0,2,],\n",
    "    [2,4],\n",
    "    [3,6]]).to(device)\n",
    "# A = torch.tensor([[1.0,2,3,3],[4,5,6,6],[7,8,10,10],[10,11,10,11]]).to(device)\n",
    "# b = torch.tensor([1.0,2,3,4]).to(device)"
   ]
  },
  {
   "cell_type": "code",
   "execution_count": 4,
   "metadata": {},
   "outputs": [
    {
     "output_type": "execute_result",
     "data": {
      "text/plain": "(tensor([[-3.3333e-01, -6.6667e-01],\n         [ 6.6667e-01,  1.3333e+00],\n         [-1.1921e-07, -2.3842e-07]], device='cuda:0'),\n tensor([[ 7.0000,  8.0000, 10.0000],\n         [ 0.1429,  0.8571,  1.5714],\n         [ 0.5714,  0.5000, -0.5000]], device='cuda:0'))"
     },
     "metadata": {},
     "execution_count": 4
    }
   ],
   "source": [
    "TCS.torch_real_solve(A,b)"
   ]
  },
  {
   "cell_type": "code",
   "execution_count": 5,
   "metadata": {},
   "outputs": [
    {
     "output_type": "execute_result",
     "data": {
      "text/plain": "torch.return_types.solve(\nsolution=tensor([[-3.3333e-01, -6.6667e-01],\n        [ 6.6667e-01,  1.3333e+00],\n        [-1.1921e-07, -2.3842e-07]], device='cuda:0'),\nLU=tensor([[ 7.0000,  8.0000, 10.0000],\n        [ 0.1429,  0.8571,  1.5714],\n        [ 0.5714,  0.5000, -0.5000]], device='cuda:0'))"
     },
     "metadata": {},
     "execution_count": 5
    }
   ],
   "source": [
    "TCS.torch_real_solve(A,b,use_cuSol=False)"
   ]
  },
  {
   "cell_type": "code",
   "execution_count": 6,
   "metadata": {},
   "outputs": [],
   "source": [
    "rand_A = torch.randn(4,4,device=device)\n",
    "rand_b = torch.randn(4,1,device=device)"
   ]
  },
  {
   "cell_type": "code",
   "execution_count": 7,
   "metadata": {},
   "outputs": [
    {
     "output_type": "execute_result",
     "data": {
      "text/plain": "(tensor([[-0.1880],\n         [-0.4425],\n         [ 0.2280],\n         [-0.4233]], device='cuda:0'),\n tensor([[ 2.4729,  1.1350,  1.5283, -1.4916],\n         [ 0.5984, -2.4509, -1.0675, -0.4214],\n         [ 0.2522,  0.6488,  0.7853,  0.0543],\n         [ 0.4444, -0.1979,  0.8406,  1.5429]], device='cuda:0'))"
     },
     "metadata": {},
     "execution_count": 7
    }
   ],
   "source": [
    "TCS.torch_real_solve(rand_A,rand_b)"
   ]
  },
  {
   "cell_type": "code",
   "execution_count": 8,
   "metadata": {},
   "outputs": [
    {
     "output_type": "execute_result",
     "data": {
      "text/plain": "torch.return_types.solve(\nsolution=tensor([[-0.1880],\n        [-0.4425],\n        [ 0.2280],\n        [-0.4233]], device='cuda:0'),\nLU=tensor([[ 2.4729,  1.1350,  1.5283, -1.4916],\n        [ 0.5984, -2.4509, -1.0675, -0.4214],\n        [ 0.2522,  0.6488,  0.7853,  0.0543],\n        [ 0.4444, -0.1979,  0.8406,  1.5429]], device='cuda:0'))"
     },
     "metadata": {},
     "execution_count": 8
    }
   ],
   "source": [
    "TCS.torch_real_solve(rand_A,rand_b,use_cuSol=False)"
   ]
  },
  {
   "cell_type": "code",
   "execution_count": null,
   "metadata": {},
   "outputs": [],
   "source": []
  }
 ],
 "metadata": {
  "language_info": {
   "codemirror_mode": {
    "name": "ipython",
    "version": 3
   },
   "file_extension": ".py",
   "mimetype": "text/x-python",
   "name": "python",
   "nbconvert_exporter": "python",
   "pygments_lexer": "ipython3",
   "version": "3.8.2-final"
  },
  "orig_nbformat": 2,
  "kernelspec": {
   "name": "python3",
   "display_name": "Python 3"
  }
 },
 "nbformat": 4,
 "nbformat_minor": 2
}